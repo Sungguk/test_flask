{
 "cells": [
  {
   "cell_type": "code",
   "execution_count": null,
   "metadata": {},
   "outputs": [
    {
     "name": "stdout",
     "output_type": "stream",
     "text": [
      " * Serving Flask app \"__main__\" (lazy loading)\n",
      " * Environment: production\n",
      "   WARNING: Do not use the development server in a production environment.\n",
      "   Use a production WSGI server instead.\n",
      " * Debug mode: off\n"
     ]
    },
    {
     "name": "stderr",
     "output_type": "stream",
     "text": [
      " * Running on http://127.0.0.1:5000/ (Press CTRL+C to quit)\n",
      "127.0.0.1 - - [23/Aug/2018 21:10:01] \"POST /test HTTP/1.1\" 200 -\n"
     ]
    },
    {
     "name": "stdout",
     "output_type": "stream",
     "text": [
      "39\n",
      "{u'age': 39, u'name': u'\\ud55c\\uc131\\uad6d', 'value': '[[0.7053901440556137, 0.38039199165953586], [0.9176023403892963, 0.8697256461108077], [0.994556725080203, 0.7832116169982702]]'}\n"
     ]
    },
    {
     "name": "stderr",
     "output_type": "stream",
     "text": [
      "127.0.0.1 - - [23/Aug/2018 21:10:13] \"POST /test HTTP/1.1\" 200 -\n"
     ]
    },
    {
     "name": "stdout",
     "output_type": "stream",
     "text": [
      "39\n",
      "{u'age': 39, u'name': u'\\ud55c\\uc131\\uad6d', u'value': '[[0.7053901440556137, 0.38039199165953586], [0.9176023403892963, 0.8697256461108077], [0.994556725080203, 0.7832116169982702]]'}\n"
     ]
    }
   ],
   "source": [
    "from flask import Flask, request, jsonify, make_response,json\n",
    "app = Flask(__name__)\n",
    "import numpy as np\n",
    "value = np.random.rand(3,2)\n",
    "@app.route(\"/\")\n",
    "def hello():\n",
    "    return \"HelloWorld\"\n",
    "\n",
    "@app.route('/test', methods=[\"GET\",\"POST\"])\n",
    "def test():\n",
    "    data = request.json\n",
    "    print(data['age'])\n",
    "    data['value'] = json.dumps(value.tolist())\n",
    "    print(data)\n",
    "    response = make_response(json.dumps(data))\n",
    "    response.headers['content-type']='application/json'\n",
    "    #return response\n",
    "    return response\n",
    "\n",
    "if __name__ == \"__main__\":\n",
    "    app.run()"
   ]
  },
  {
   "cell_type": "code",
   "execution_count": null,
   "metadata": {},
   "outputs": [],
   "source": []
  }
 ],
 "metadata": {
  "kernelspec": {
   "display_name": "Python 3",
   "language": "python",
   "name": "python3"
  },
  "language_info": {
   "codemirror_mode": {
    "name": "ipython",
    "version": 2
   },
   "file_extension": ".py",
   "mimetype": "text/x-python",
   "name": "python",
   "nbconvert_exporter": "python",
   "pygments_lexer": "ipython2",
   "version": "2.7.12"
  }
 },
 "nbformat": 4,
 "nbformat_minor": 2
}
